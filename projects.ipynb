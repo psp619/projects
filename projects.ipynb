{
 "cells": [
  {
   "cell_type": "code",
   "execution_count": 4,
   "metadata": {},
   "outputs": [
    {
     "name": "stdout",
     "output_type": "stream",
     "text": [
      "Requirement already satisfied: captcha in c:\\users\\sheet\\anaconda3\\lib\\site-packages (0.3)\n",
      "Requirement already satisfied: Pillow in c:\\users\\sheet\\anaconda3\\lib\\site-packages (from captcha) (6.2.0)\n",
      "Note: you may need to restart the kernel to use updated packages.\n"
     ]
    }
   ],
   "source": [
    "pip install captcha\n"
   ]
  },
  {
   "cell_type": "code",
   "execution_count": 6,
   "metadata": {},
   "outputs": [],
   "source": [
    "\n",
    "\n"
   ]
  },
  {
   "cell_type": "code",
   "execution_count": 7,
   "metadata": {},
   "outputs": [],
   "source": [
    "from captcha.image import ImageCaptcha  \n"
   ]
  },
  {
   "cell_type": "code",
   "execution_count": 8,
   "metadata": {},
   "outputs": [],
   "source": [
    "image_captcha = ImageCaptcha()\n"
   ]
  },
  {
   "cell_type": "code",
   "execution_count": 9,
   "metadata": {},
   "outputs": [],
   "source": [
    "from captcha.audio import AudioCaptcha \n"
   ]
  },
  {
   "cell_type": "code",
   "execution_count": 10,
   "metadata": {},
   "outputs": [],
   "source": [
    "audio_captcha = AudioCaptcha(voicedir='./voices') \n"
   ]
  },
  {
   "cell_type": "code",
   "execution_count": null,
   "metadata": {},
   "outputs": [],
   "source": [
    "from captcha.image import ImageCaptcha\n",
    "from captcha.audio import AudioCaptcha\n",
    "import matplotlib.pyplot as plt\n",
    "import random\n",
    "\n",
    "# The number list, lower case character list and upper case character list are used to generate captcha text.\n",
    "number_list = ['0','1','2','3','4','5','6','7','8','9']\n",
    "\n",
    "alphabet_lowercase = ['a','b','c','d','e','f','g','h','i','j','k','l','m','n','o','p','q','r','s','t','u','v','w','x','y','z']\n",
    "\n",
    "alphabet_uppercase = ['A','B','C','D','E','F','G','H','I','J','K','L','M','N','O','P','Q','R','S','T','U','V','W','X','Y','Z']\n",
    "\n",
    "# This function will create a random captcha string text based on above three list.\n",
    "# The input parameter is the captcha text length.\n",
    "def create_random_captcha_text(captcha_string_size=10):\n",
    "\n",
    "    captcha_string_list = []\n",
    "\n",
    "    base_char = alphabet_lowercase + alphabet_uppercase + number_list\n",
    "\n",
    "    for i in range(captcha_string_size):\n",
    "\n",
    "        # Select one character randomly.\n",
    "        char = random.choice(base_char)\n",
    "\n",
    "        # Append the character to the list.\n",
    "        captcha_string_list.append(char)\n",
    "\n",
    "    captcha_string = ''\n",
    "\n",
    "    # Change the character list to string.    \n",
    "    for item in captcha_string_list:\n",
    "        captcha_string += str(item)\n",
    "\n",
    "    return captcha_string\n",
    "\n",
    "# This function will create a fully digital captcha string text.\n",
    "def create_random_digital_text(captcha_string_size=10):\n",
    "\n",
    "    captcha_string_list = []\n",
    "    # Loop in the number list and return a digital captcha string list\n",
    "    for i in range(captcha_string_size):\n",
    "        char = random.choice(number_list)\n",
    "        captcha_string_list.append(char)\n",
    "        \n",
    "    captcha_string = ''\n",
    "\n",
    "    # Convert the digital list to string.    \n",
    "    for item in captcha_string_list:\n",
    "        captcha_string += str(item)\n",
    "\n",
    "    return captcha_string\n",
    "\n",
    "# Create an image captcha with special text.\n",
    "def create_image_captcha(captcha_text):\n",
    "    image_captcha = ImageCaptcha()\n",
    "    # Create the captcha image.\n",
    "    image = image_captcha.generate_image(captcha_text)\n",
    "\n",
    "    # Add noise curve for the image.\n",
    "    image_captcha.create_noise_curve(image, image.getcolors())\n",
    "\n",
    "    # Add noise dots for the image.\n",
    "    image_captcha.create_noise_dots(image, image.getcolors())\n",
    "\n",
    "    # Save the image to a png file.\n",
    "    image_file = \"./captcha_\"+captcha_text + \".png\"\n",
    "    image_captcha.write(captcha_text, image_file)\n",
    "\n",
    "    # Display the image in a matplotlib viewer.\n",
    "    plt.imshow(image)\n",
    "    plt.show()\n",
    "\n",
    "    print(image_file + \" has been created.\")\n",
    "\n",
    "# Create an audio captcha file.    \n",
    "def create_audio_captcha():\n",
    "\n",
    "    # Create the audio captcha with the specified voice wav file library folder.\n",
    "    # Each captcha char should has it's own directory under the specified folder ( such as ./voices),\n",
    "    # for example ./voices/a/a.wav will be played when the character is a.\n",
    "    # If you do not specify your own voice file library folder, the default built-in voice library which has only digital voice file will be used. \n",
    "    # audio_captcha = AudioCaptcha(voicedir='./voices')\n",
    "\n",
    "    # Create an audio captcha which use digital voice file only.\n",
    "    audio_captcha = AudioCaptcha()\n",
    "\n",
    "    # Because we use the default module voice library, so we can only generate digital text voice.\n",
    "    captcha_text = create_random_digital_text()\n",
    "\n",
    "    # Generate the audio captcha file.\n",
    "    audio_data = audio_captcha.generate(captcha_text)\n",
    "\n",
    "    # Save the autiod captcha file.\n",
    "    audio_file = \"./captcha_\"+captcha_text+'.wav'\n",
    "    audio_captcha.write(captcha_text, audio_file)\n",
    "\n",
    "    print(audio_file + \" has been created.\")\n",
    "\n",
    "if __name__ == '__main__':\n",
    "    # Create random text.\n",
    "    captcha_text = create_random_captcha_text()\n",
    "\n",
    "    # Create image captcha.\n",
    "    create_image_captcha(captcha_text)\n",
    "\n",
    "    # Create audio captcha.\n",
    "    create_audio_captcha()"
   ]
  }
 ],
 "metadata": {
  "kernelspec": {
   "display_name": "Python 3",
   "language": "python",
   "name": "python3"
  },
  "language_info": {
   "codemirror_mode": {
    "name": "ipython",
    "version": 3
   },
   "file_extension": ".py",
   "mimetype": "text/x-python",
   "name": "python",
   "nbconvert_exporter": "python",
   "pygments_lexer": "ipython3",
   "version": "3.7.4"
  }
 },
 "nbformat": 4,
 "nbformat_minor": 2
}
